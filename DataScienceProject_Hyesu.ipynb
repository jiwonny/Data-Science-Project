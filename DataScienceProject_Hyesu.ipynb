{
 "cells": [
  {
   "cell_type": "markdown",
   "metadata": {},
   "source": [
    "### import modules"
   ]
  },
  {
   "cell_type": "code",
   "execution_count": 1,
   "metadata": {},
   "outputs": [],
   "source": [
    "import pandas as pd\n",
    "import numpy as np\n",
    "from numpy import dot\n",
    "from numpy.linalg import norm\n",
    "import turicreate as tc\n",
    "from sklearn.model_selection import train_test_split\n",
    "from sklearn.utils import shuffle"
   ]
  },
  {
   "cell_type": "markdown",
   "metadata": {},
   "source": [
    "### dealing with data"
   ]
  },
  {
   "cell_type": "code",
   "execution_count": 39,
   "metadata": {},
   "outputs": [],
   "source": [
    "path = 'BlackFriday.csv'\n",
    "data = pd.read_csv(path)\n",
    "data = data.drop(['Gender', 'Age', 'Occupation', 'City_Category',\n",
    "                  'Stay_In_Current_City_Years', 'Marital_Status',\n",
    "                  'Product_Category_1', 'Product_Category_2',\n",
    "                  'Product_Category_3', 'Purchase'], axis=1)\n",
    "\n",
    "data2 = data.groupby(['User_ID']).count()\n",
    "df = pd.DataFrame({'User_ID':data2['Product_ID'].index, 'countProduct':data2['Product_ID'].values})\n",
    "data = data.join(df.set_index('User_ID'), on='User_ID').sort_values(['User_ID'])\n",
    "\n",
    "# drop data whose countProduct is less than 300\n",
    "data = data[data.countProduct >= 300]\n",
    "data = data.reset_index(drop = True)\n",
    "\n",
    "# data about users (312 users)\n",
    "users = pd.DataFrame(data.User_ID.unique())\n",
    "users.columns = ['User_ID']\n",
    "users_length = len(users)\n",
    "\n",
    "# data about products\n",
    "products = pd.DataFrame(data.Product_ID.unique())\n",
    "products.columns = ['Product_ID']\n",
    "products_length = len(products)\n",
    "\n",
    "data['purchased'] = 1\n",
    "\n",
    "df_matrix = pd.pivot_table(data, values='purchased', index='User_ID', columns='Product_ID', fill_value=0)\n",
    "\n",
    "# df has user and countProduct whose countProduct >= 300\n",
    "user_cnt_info = pd.DataFrame({'User_ID':data['User_ID'], 'countProduct':data['countProduct']})\n",
    "user_cnt_info = user_cnt_info.groupby(['User_ID', 'countProduct']).count().reset_index()"
   ]
  },
  {
   "cell_type": "markdown",
   "metadata": {},
   "source": [
    "### split the data and store"
   ]
  },
  {
   "cell_type": "code",
   "execution_count": null,
   "metadata": {},
   "outputs": [],
   "source": [
    "'''train, val, test data 를 만드는 cell => 초기에만 실행할 것'''\n",
    "\n",
    "test = pd.DataFrame()\n",
    "val = pd.DataFrame()\n",
    "train = pd.DataFrame()\n",
    "\n",
    "i = 0\n",
    "j = 0\n",
    "\n",
    "while i < len(data):\n",
    "    cnt = data.loc[i].countProduct\n",
    "    tmp = data[i: i+cnt]\n",
    "    tmp = shuffle(tmp).reset_index()\n",
    "    test = test.append(tmp[0:10])\n",
    "    val = val.append(tmp[10:20])\n",
    "    train = train.append(tmp[20:])\n",
    "    j = j + 1\n",
    "    i = i + cnt\n",
    "    \n",
    "train.to_csv(\"train_data.csv\", mode='w')\n",
    "val.to_csv(\"val_data.csv\", mode='w')\n",
    "test.to_csv(\"test_data.csv\", mode='w')"
   ]
  },
  {
   "cell_type": "code",
   "execution_count": 64,
   "metadata": {},
   "outputs": [],
   "source": [
    "'''저장되어 있는 train, val, test data 를 사용하는 경우 실행.'''\n",
    "\n",
    "train = pd.read_csv('train_data.csv')\n",
    "val = pd.read_csv('val_data.csv')\n",
    "test = pd.read_csv('test_data.csv')\n",
    "\n",
    "train = train.drop(['Unnamed: 0', 'index'], axis=1)\n",
    "val = val.drop(['Unnamed: 0', 'index'], axis=1)\n",
    "test =test.drop(['Unnamed: 0', 'index'], axis=1)"
   ]
  },
  {
   "cell_type": "code",
   "execution_count": 158,
   "metadata": {},
   "outputs": [],
   "source": [
    "train_matrix = pd.pivot_table(train, values='purchased', index='User_ID', columns='Product_ID', fill_value=0)\n",
    "\n",
    "train_products = pd.DataFrame(train.Product_ID.unique())\n",
    "train_products.columns = ['Product_ID']\n",
    "train_products_length = len(train_products)\n",
    "\n",
    "val_matrix = pd.pivot_table(val, values='purchased', index='User_ID', columns='Product_ID', fill_value=0)\n",
    "\n",
    "val_products = pd.DataFrame(val.Product_ID.unique())\n",
    "val_products.columns = ['Product_ID']\n",
    "val_products = val_products.sort_values('Product_ID')\n",
    "val_products_length = len(val_products)\n",
    "\n",
    "val_user_info = pd.DataFrame(val.User_ID.unique())\n",
    "val_user_info.columns = ['User_ID']\n",
    "val_users_length = len(val_user_info)"
   ]
  },
  {
   "cell_type": "markdown",
   "metadata": {},
   "source": [
    "### defining cosine similarity module"
   ]
  },
  {
   "cell_type": "code",
   "execution_count": 229,
   "metadata": {},
   "outputs": [],
   "source": [
    "def cos_sim(A, B):\n",
    "    if(norm(A)==0 or norm(B)==0):\n",
    "        return 0\n",
    "    else:\n",
    "        return dot(A, B)/(norm(A)*norm(B))    "
   ]
  },
  {
   "cell_type": "markdown",
   "metadata": {},
   "source": [
    "### user based CF"
   ]
  },
  {
   "cell_type": "markdown",
   "metadata": {},
   "source": [
    "#### user - user 사이의 유사도를 계산함."
   ]
  },
  {
   "cell_type": "code",
   "execution_count": null,
   "metadata": {},
   "outputs": [],
   "source": [
    "'''user_user matrix 를 만드는 cell => 초기에만 실행할 것'''\n",
    "#user 사이의 유사도를 계산함.\n",
    "user_user_matrix = np.zeros(shape=(users_length,users_length))\n",
    "\n",
    "i = 0\n",
    "j = 0\n",
    "for user1 in users['User_ID']:\n",
    "    user_1 = np.array(train_matrix.loc[user1])\n",
    "    j = 0\n",
    "    for user2 in users['User_ID']:\n",
    "        user_2 = np.array(train_matrix.loc[user2])\n",
    "        user_user_matrix[i][j] = cos_sim(user_1, user_2)\n",
    "        j = j+1\n",
    "    i = i+1\n",
    "    \n",
    "np.savetxt('user_user_matrix.csv', user_user_matrix, delimiter=',')"
   ]
  },
  {
   "cell_type": "code",
   "execution_count": 21,
   "metadata": {},
   "outputs": [],
   "source": [
    "'''저장한 user_user matrix를 이용하는 경우 실행함.'''\n",
    "user_user_matrix = pd.read_csv('user_user_matrix.csv', header = None)"
   ]
  },
  {
   "cell_type": "markdown",
   "metadata": {},
   "source": [
    "#### 유사도가 높은 5명의 user 로 부터 추천 받아 recom_matrix 에 저장."
   ]
  },
  {
   "cell_type": "code",
   "execution_count": null,
   "metadata": {
    "scrolled": true
   },
   "outputs": [],
   "source": [
    "'''recom_matrix 를 계산해야 하는 경우 실행함.'''\n",
    "# recommendation matrix\n",
    "recom_matrix = np.zeros(shape=(users_length,products_length))\n",
    "\n",
    "i = 0\n",
    "j = 0\n",
    "cnt = 0\n",
    "# user i와 j가 유사할 경우, i 에게 j가 산 물건을 추천한다. \n",
    "\n",
    "while(i<users_length):\n",
    "    j = i+1\n",
    "    cnt = 0\n",
    "    while(j<users_length) :\n",
    "        if(user_user_matrix.loc[i][j] > 0.2 and cnt < 5):\n",
    "            cnt = cnt+1\n",
    "            for k, product in enumerate(train_products['Product_ID']):\n",
    "                # i 가 사지 않은 물건인데, j가 샀을 경우 i 에게 추천.\n",
    "                if(train_matrix.loc[users.loc[i]][product].values==0 and \n",
    "                   train_matrix.loc[users.loc[j]][product].values==1):\n",
    "                    print(i, k)\n",
    "                    recom_matrix[i][k] = 1\n",
    "                    print(recom_matrix[i][k])\n",
    "        if (cnt == 5):\n",
    "            break;\n",
    "        j = j+1\n",
    "    i = i+1"
   ]
  },
  {
   "cell_type": "code",
   "execution_count": 6,
   "metadata": {},
   "outputs": [],
   "source": [
    "'''저장된 recom_matrix 를 사용할 경우 실행함.'''\n",
    "recom_matrix = pd.read_csv('recom_matrix.csv', header=None)"
   ]
  },
  {
   "cell_type": "markdown",
   "metadata": {},
   "source": [
    "#### recom_matrix (predicted) 와 val_matrix (observed) 비교.<br></br>=> 각 user 별 vector 사이의 유사도를 계산하여 similairty_matrix 에 저장함."
   ]
  },
  {
   "cell_type": "code",
   "execution_count": 99,
   "metadata": {},
   "outputs": [],
   "source": [
    "# recom_matrix, val_matrix 의 비교를 편하게 하기 위해 product id 와 index 사이의 dictionary 를 만들고, 관리할 것임.\n",
    "def swap_dictionary(original_dict):\n",
    "    temp_dict = {}\n",
    "    dict_list = original_dict.items()\n",
    "    for i in dict_list:\n",
    "        temp_dict[i[1]] = i[0]\n",
    "    return temp_dict"
   ]
  },
  {
   "cell_type": "code",
   "execution_count": 98,
   "metadata": {},
   "outputs": [],
   "source": [
    "tmp = products.to_dict()\n",
    "swaped_products = swap_dictionary(tmp['Product_ID'])"
   ]
  },
  {
   "cell_type": "code",
   "execution_count": 236,
   "metadata": {},
   "outputs": [],
   "source": [
    "# recom_matrix 에는 모든 product 가 column 으로 들어가 있음.\n",
    "# new_recom 에는 val_matrix 에 있는 product 만 뽑아서 정리함.\n",
    "# 이렇게 정리함으로써, new_recom 과 val_matrix 의 row vector 사이의 유사도를 계산할 수 있음. (차원을 맞춰 줌.)\n",
    "\n",
    "new_recom = pd.DataFrame()\n",
    "\n",
    "for product in val_products['Product_ID']:\n",
    "    tmp = recom_matrix[swaped_products[product]]\n",
    "    tmp = tmp.to_frame(name=product)\n",
    "    new_recom = pd.merge(new_recom, tmp, left_index=True, right_index=True, how=\"outer\")"
   ]
  },
  {
   "cell_type": "code",
   "execution_count": 239,
   "metadata": {},
   "outputs": [],
   "source": [
    "# similarity matrix 를 정의하고, new_recom 과 val_matrix 의 row vector 사이의 유사도를 계산하여 저장함.\n",
    "\n",
    "similarity_matrix = np.zeros(shape=(val_users_length, 1))\n",
    "\n",
    "for i, user1 in enumerate(val_user_info['User_ID']):\n",
    "    user_recom = np.array(new_recom.loc[i]).astype(int)\n",
    "    user_val = np.array(val_matrix.loc[user1])\n",
    "    similarity_matrix[i] = cos_sim(user_recom, user_val)\n",
    "    \n",
    "similarity_matrix = pd.DataFrame(similarity_matrix)\n",
    "# similarity_matrix 의 index 는 users 의 index 와 같으며, users 를 통해 user_ID 로 접근할 수 있다."
   ]
  },
  {
   "cell_type": "markdown",
   "metadata": {},
   "source": [
    "0 결과가 나온 것은, user_recom, user_val 둘 중 하나의 norm 이 0 인 경우도 포함."
   ]
  },
  {
   "cell_type": "code",
   "execution_count": 241,
   "metadata": {},
   "outputs": [
    {
     "data": {
      "text/html": [
       "<div>\n",
       "<style scoped>\n",
       "    .dataframe tbody tr th:only-of-type {\n",
       "        vertical-align: middle;\n",
       "    }\n",
       "\n",
       "    .dataframe tbody tr th {\n",
       "        vertical-align: top;\n",
       "    }\n",
       "\n",
       "    .dataframe thead th {\n",
       "        text-align: right;\n",
       "    }\n",
       "</style>\n",
       "<table border=\"1\" class=\"dataframe\">\n",
       "  <thead>\n",
       "    <tr style=\"text-align: right;\">\n",
       "      <th></th>\n",
       "      <th>0</th>\n",
       "    </tr>\n",
       "  </thead>\n",
       "  <tbody>\n",
       "    <tr>\n",
       "      <th>count</th>\n",
       "      <td>312.000000</td>\n",
       "    </tr>\n",
       "    <tr>\n",
       "      <th>mean</th>\n",
       "      <td>0.012546</td>\n",
       "    </tr>\n",
       "    <tr>\n",
       "      <th>std</th>\n",
       "      <td>0.024038</td>\n",
       "    </tr>\n",
       "    <tr>\n",
       "      <th>min</th>\n",
       "      <td>0.000000</td>\n",
       "    </tr>\n",
       "    <tr>\n",
       "      <th>25%</th>\n",
       "      <td>0.000000</td>\n",
       "    </tr>\n",
       "    <tr>\n",
       "      <th>50%</th>\n",
       "      <td>0.000000</td>\n",
       "    </tr>\n",
       "    <tr>\n",
       "      <th>75%</th>\n",
       "      <td>0.000000</td>\n",
       "    </tr>\n",
       "    <tr>\n",
       "      <th>max</th>\n",
       "      <td>0.088544</td>\n",
       "    </tr>\n",
       "  </tbody>\n",
       "</table>\n",
       "</div>"
      ],
      "text/plain": [
       "                0\n",
       "count  312.000000\n",
       "mean     0.012546\n",
       "std      0.024038\n",
       "min      0.000000\n",
       "25%      0.000000\n",
       "50%      0.000000\n",
       "75%      0.000000\n",
       "max      0.088544"
      ]
     },
     "execution_count": 241,
     "metadata": {},
     "output_type": "execute_result"
    }
   ],
   "source": [
    "similarity_matrix.describe()"
   ]
  },
  {
   "cell_type": "markdown",
   "metadata": {},
   "source": [
    "가장 유사도가 높은 것은 0.08임!!!! 즉, 1606 개의 product 중 128 개 정도의 product 를 맞춘 것이라고 할 수 잇음."
   ]
  },
  {
   "cell_type": "code",
   "execution_count": 233,
   "metadata": {},
   "outputs": [
    {
     "data": {
      "text/plain": [
       "1606"
      ]
     },
     "execution_count": 233,
     "metadata": {},
     "output_type": "execute_result"
    }
   ],
   "source": [
    "val_products_length"
   ]
  }
 ],
 "metadata": {
  "kernelspec": {
   "display_name": "Python 3",
   "language": "python",
   "name": "python3"
  },
  "language_info": {
   "codemirror_mode": {
    "name": "ipython",
    "version": 3
   },
   "file_extension": ".py",
   "mimetype": "text/x-python",
   "name": "python",
   "nbconvert_exporter": "python",
   "pygments_lexer": "ipython3",
   "version": "3.6.5"
  }
 },
 "nbformat": 4,
 "nbformat_minor": 2
}
